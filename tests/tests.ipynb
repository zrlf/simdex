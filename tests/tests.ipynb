{
 "cells": [
  {
   "cell_type": "code",
   "execution_count": null,
   "id": "86964db0",
   "metadata": {},
   "outputs": [
    {
     "name": "stdout",
     "output_type": "stream",
     "text": [
      " \u001b[90mid\u001b[39m   \u001b[90mstatus\u001b[39m        \u001b[90msubmitted\u001b[39m   \u001b[90mcreated_at\u001b[39m                         \u001b[90mname\u001b[39m         \u001b[90mlocation\u001b[39m   \u001b[90mparam1\u001b[39m   \u001b[90mtime\u001b[39m  \n",
      " 38   initialized   false       2025-04-06T14:52:23.449603+00:00   0170da6223   84         38       17731 \n",
      " 33   initialized   false       2025-04-06T14:52:23.279929+00:00   03295909b4   57         33       17730 \n",
      " 20   initialized   false       2025-04-06T14:52:22.831498+00:00   0c5aaad116   49         20       17730 \n",
      " 23   initialized   false       2025-04-06T14:52:22.933939+00:00   144387a843   23         23       17730 \n",
      " 37   initialized   false       2025-04-06T14:52:23.414871+00:00   1684f21d4d   13         37       17731 \n",
      " 34   initialized   false       2025-04-06T14:52:23.313618+00:00   197bcea1f3   65         34       17730 \n",
      " 26   initialized   false       2025-04-06T14:52:23.037901+00:00   1c6e55e8dd   59         26       17730 \n",
      " 13   initialized   false       2025-04-06T14:52:22.587492+00:00   3bc5ff4fe1   96         13       17730 \n",
      " 5    initialized   false       2025-04-06T14:52:22.314141+00:00   4004b86197   35         5        17729 \n",
      " 27   initialized   false       2025-04-06T14:52:23.071240+00:00   427f85641e   70         27       17730 \n",
      " 35   initialized   false       2025-04-06T14:52:23.347324+00:00   4a1ae70fbe   96         35       17730 \n",
      " 40   initialized   false       2025-04-06T15:29:23.305164+00:00   50d97e0293   1          0        19950 \n",
      " 7    initialized   false       2025-04-06T14:52:22.381339+00:00   5863fc1099   83         7        17730 \n",
      " 1    initialized   false       2025-04-06T14:52:22.173961+00:00   5a8a30920d   26         1        17729 \n",
      " 22   initialized   false       2025-04-06T14:52:22.899331+00:00   6642929a60   16         22       17730 \n",
      " 42   initialized   false       2025-04-06T15:55:44.757068+00:00   6faa5210da   85         0        21532 \n",
      " 10   initialized   false       2025-04-06T14:52:22.482901+00:00   7ff756c459   63         10       17730 \n",
      " 3    initialized   false       2025-04-06T14:52:22.246785+00:00   8112f77860   21         3        17729 \n",
      " 19   initialized   false       2025-04-06T14:52:22.796937+00:00   9275714d4c   20         19       17730 \n",
      " 16   initialized   false       2025-04-06T14:52:22.692934+00:00   92c7b3c530   79         16       17730 \n",
      " 2    initialized   false       2025-04-06T14:52:22.209261+00:00   9745f5297a   46         2        17729 \n",
      " 32   initialized   false       2025-04-06T14:52:23.246335+00:00   9ab885ac34   75         32       17730 \n",
      " 30   initialized   false       2025-04-06T14:52:23.176194+00:00   a498b91089   46         30       17730 \n",
      " 18   initialized   false       2025-04-06T14:52:22.762666+00:00   af97942de9   84         18       17730 \n",
      " 21   initialized   false       2025-04-06T14:52:22.864651+00:00   b00582ca70   97         21       17730 \n",
      " 24   initialized   false       2025-04-06T14:52:22.969556+00:00   b4968bccc5   18         24       17730 \n",
      " 14   initialized   false       2025-04-06T14:52:22.621436+00:00   bb0b1393fb   98         14       17730 \n",
      " 28   initialized   false       2025-04-06T14:52:23.104829+00:00   bf9977117b   82         28       17730 \n",
      " 8    initialized   false       2025-04-06T14:52:22.414764+00:00   bfbdac1eca   2          8        17730 \n",
      " 41   initialized   false       2025-04-06T15:54:54.361701+00:00   c09b3e3c55   53         0        21481 \n",
      " 6    initialized   false       2025-04-06T14:52:22.347661+00:00   c09db690ef   80         6        17729 \n",
      " 15   initialized   false       2025-04-06T14:52:22.656977+00:00   c173ff863b   45         15       17730 \n",
      " 29   initialized   false       2025-04-06T14:52:23.141978+00:00   ca67e9139e   66         29       17730 \n",
      " 31   initialized   false       2025-04-06T14:52:23.212008+00:00   cff8bc2ca5   25         31       17730 \n",
      " 9    initialized   false       2025-04-06T14:52:22.448451+00:00   d18d22bbfd   17         9        17730 \n",
      " 17   initialized   false       2025-04-06T14:52:22.728335+00:00   d22e54e57b   29         17       17730 \n",
      " 11   initialized   false       2025-04-06T14:52:22.517986+00:00   d3562ced31   60         11       17730 \n",
      " 4    initialized   false       2025-04-06T14:52:22.280483+00:00   da38ec04dd   2          4        17729 \n",
      " 25   initialized   false       2025-04-06T14:52:23.004067+00:00   ea672d1fe3   48         25       17730 \n",
      " 36   initialized   false       2025-04-06T14:52:23.380915+00:00   ee7085ef16   94         36       17731 \n",
      " 12   initialized   false       2025-04-06T14:52:22.552963+00:00   f77ef769e1   46         12       17730 \n",
      " 39   initialized   false       2025-04-06T14:52:23.484228+00:00   fd66fbd95b   10         39       17731 \n"
     ]
    },
    {
     "data": {
      "text/plain": [
       "'Display complete.'"
      ]
     },
     "execution_count": 5,
     "metadata": {},
     "output_type": "execute_result"
    }
   ],
   "source": [
    "import simdex\n",
    "\n",
    "simdex.py_display(\"../simdex.db\", \"F889690E66\")"
   ]
  }
 ],
 "metadata": {
  "kernelspec": {
   "display_name": "simdex (3.13.7)",
   "language": "python",
   "name": "python3"
  },
  "language_info": {
   "codemirror_mode": {
    "name": "ipython",
    "version": 3
   },
   "file_extension": ".py",
   "mimetype": "text/x-python",
   "name": "python",
   "nbconvert_exporter": "python",
   "pygments_lexer": "ipython3",
   "version": "3.13.7"
  }
 },
 "nbformat": 4,
 "nbformat_minor": 5
}
